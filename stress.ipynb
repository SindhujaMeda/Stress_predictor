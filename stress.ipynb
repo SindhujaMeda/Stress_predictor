{
 "cells": [
  {
   "cell_type": "code",
   "execution_count": 28,
   "metadata": {
    "id": "6BzO_QSYh4vL"
   },
   "outputs": [],
   "source": [
    "import pandas as pd\n",
    "\n",
    "df_sayo = pd.read_csv(\"Sayopillow (2).csv\")\n",
    "df_smartwatch = pd.read_csv(\"unclean_smartwatch_health_data.csv\")"
   ]
  },
  {
   "cell_type": "code",
   "execution_count": 29,
   "metadata": {
    "id": "ksutYLiMZ7CD"
   },
   "outputs": [],
   "source": [
    "# Rename columns in smartwatch data to match SaYoPillow\n",
    "column_mapping = {\n",
    "    \"Heart Rate (BPM)\": \"hr\",\n",
    "    \"Blood Oxygen Level (%)\": \"bo\",\n",
    "    \"Sleep Duration (hours)\": \"sr.1\",\n",
    "    \"Stress Level\": \"sl\"\n",
    "}\n",
    "df_smartwatch.rename(columns=column_mapping, inplace=True)"
   ]
  },
  {
   "cell_type": "code",
   "execution_count": 30,
   "metadata": {
    "id": "oDmNVRC2aApD"
   },
   "outputs": [],
   "source": [
    "# Keep only relevant columns\n",
    "common_columns = list(set(df_sayo.columns) & set(df_smartwatch.columns))\n",
    "df_smartwatch = df_smartwatch[common_columns]"
   ]
  },
  {
   "cell_type": "code",
   "execution_count": 31,
   "metadata": {
    "id": "q36SyedDaFoQ"
   },
   "outputs": [],
   "source": [
    "# Convert \"sl\" to numeric, forcing errors='coerce' to handle non-numeric values\n",
    "if \"sl\" in df_smartwatch.columns:\n",
    "    df_smartwatch[\"sl\"] = pd.to_numeric(df_smartwatch[\"sl\"], errors='coerce')\n",
    "    # Apply stress level conversion (1-10 → 0-4 scale)\n",
    "    df_smartwatch[\"sl\"] = ((df_smartwatch[\"sl\"] - 1) * (4 / 9)).round().astype(\"Int64\")"
   ]
  },
  {
   "cell_type": "code",
   "execution_count": 32,
   "metadata": {
    "id": "vL3DAulRaL8N"
   },
   "outputs": [],
   "source": [
    "# Merge datasets (row-wise)\n",
    "df_extended = pd.concat([df_sayo, df_smartwatch], ignore_index=True)"
   ]
  },
  {
   "cell_type": "code",
   "execution_count": 33,
   "metadata": {
    "id": "T9YiDTsyaMA0"
   },
   "outputs": [],
   "source": [
    "# Save the extended dataset\n",
    "extended_path = \"Extended_SaYoPillow (3).csv\"\n",
    "df_extended.to_csv(extended_path, index=False)"
   ]
  },
  {
   "cell_type": "code",
   "execution_count": 34,
   "metadata": {
    "colab": {
     "base_uri": "https://localhost:8080/"
    },
    "id": "QPgsgeGwaee3",
    "outputId": "c27bfe37-5085-4724-a3ff-434e4f4e657b"
   },
   "outputs": [
    {
     "name": "stdout",
     "output_type": "stream",
     "text": [
      "      sr      rr       t      lm      bo    rem     sh     hr  sl\n",
      "0  93.80  25.680  91.840  16.600  89.840  99.60  1.840  74.20   3\n",
      "1  91.64  25.104  91.552  15.880  89.552  98.88  1.552  72.76   3\n",
      "2  60.00  20.000  96.000  10.000  95.000  85.00  7.000  60.00   1\n",
      "3  85.76  23.536  90.768  13.920  88.768  96.92  0.768  68.84   3\n",
      "4  48.12  17.248  97.872   6.496  96.248  72.48  8.248  53.12   0\n"
     ]
    }
   ],
   "source": [
    "# Display sample\n",
    "print(df_extended.head())"
   ]
  },
  {
   "cell_type": "code",
   "execution_count": 35,
   "metadata": {
    "colab": {
     "base_uri": "https://localhost:8080/",
     "height": 206
    },
    "id": "O1ICjh2_b0pl",
    "outputId": "fbd8d41a-096e-4a34-b8d8-07461c3c1662"
   },
   "outputs": [
    {
     "data": {
      "text/html": [
       "<div>\n",
       "<style scoped>\n",
       "    .dataframe tbody tr th:only-of-type {\n",
       "        vertical-align: middle;\n",
       "    }\n",
       "\n",
       "    .dataframe tbody tr th {\n",
       "        vertical-align: top;\n",
       "    }\n",
       "\n",
       "    .dataframe thead th {\n",
       "        text-align: right;\n",
       "    }\n",
       "</style>\n",
       "<table border=\"1\" class=\"dataframe\">\n",
       "  <thead>\n",
       "    <tr style=\"text-align: right;\">\n",
       "      <th></th>\n",
       "      <th>sr</th>\n",
       "      <th>rr</th>\n",
       "      <th>t</th>\n",
       "      <th>lm</th>\n",
       "      <th>bo</th>\n",
       "      <th>rem</th>\n",
       "      <th>sh</th>\n",
       "      <th>hr</th>\n",
       "      <th>sl</th>\n",
       "    </tr>\n",
       "  </thead>\n",
       "  <tbody>\n",
       "    <tr>\n",
       "      <th>10625</th>\n",
       "      <td>NaN</td>\n",
       "      <td>NaN</td>\n",
       "      <td>NaN</td>\n",
       "      <td>NaN</td>\n",
       "      <td>98.931927</td>\n",
       "      <td>NaN</td>\n",
       "      <td>NaN</td>\n",
       "      <td>78.819386</td>\n",
       "      <td>3</td>\n",
       "    </tr>\n",
       "    <tr>\n",
       "      <th>10626</th>\n",
       "      <td>NaN</td>\n",
       "      <td>NaN</td>\n",
       "      <td>NaN</td>\n",
       "      <td>NaN</td>\n",
       "      <td>95.773035</td>\n",
       "      <td>NaN</td>\n",
       "      <td>NaN</td>\n",
       "      <td>48.632659</td>\n",
       "      <td>0</td>\n",
       "    </tr>\n",
       "    <tr>\n",
       "      <th>10627</th>\n",
       "      <td>NaN</td>\n",
       "      <td>NaN</td>\n",
       "      <td>NaN</td>\n",
       "      <td>NaN</td>\n",
       "      <td>97.945874</td>\n",
       "      <td>NaN</td>\n",
       "      <td>NaN</td>\n",
       "      <td>73.834442</td>\n",
       "      <td>1</td>\n",
       "    </tr>\n",
       "    <tr>\n",
       "      <th>10628</th>\n",
       "      <td>NaN</td>\n",
       "      <td>NaN</td>\n",
       "      <td>NaN</td>\n",
       "      <td>NaN</td>\n",
       "      <td>98.401058</td>\n",
       "      <td>NaN</td>\n",
       "      <td>NaN</td>\n",
       "      <td>NaN</td>\n",
       "      <td>3</td>\n",
       "    </tr>\n",
       "    <tr>\n",
       "      <th>10629</th>\n",
       "      <td>NaN</td>\n",
       "      <td>NaN</td>\n",
       "      <td>NaN</td>\n",
       "      <td>NaN</td>\n",
       "      <td>98.475606</td>\n",
       "      <td>NaN</td>\n",
       "      <td>NaN</td>\n",
       "      <td>70.063864</td>\n",
       "      <td>2</td>\n",
       "    </tr>\n",
       "  </tbody>\n",
       "</table>\n",
       "</div>"
      ],
      "text/plain": [
       "       sr  rr   t  lm         bo  rem  sh         hr  sl\n",
       "10625 NaN NaN NaN NaN  98.931927  NaN NaN  78.819386   3\n",
       "10626 NaN NaN NaN NaN  95.773035  NaN NaN  48.632659   0\n",
       "10627 NaN NaN NaN NaN  97.945874  NaN NaN  73.834442   1\n",
       "10628 NaN NaN NaN NaN  98.401058  NaN NaN        NaN   3\n",
       "10629 NaN NaN NaN NaN  98.475606  NaN NaN  70.063864   2"
      ]
     },
     "execution_count": 35,
     "metadata": {},
     "output_type": "execute_result"
    }
   ],
   "source": [
    "df_extended.tail()"
   ]
  },
  {
   "cell_type": "code",
   "execution_count": 36,
   "metadata": {
    "id": "M91nxq8609Dg"
   },
   "outputs": [],
   "source": [
    "import pandas as pd\n",
    "import numpy as np\n",
    "from sklearn.model_selection import train_test_split\n",
    "from sklearn.experimental import enable_iterative_imputer\n",
    "from sklearn.impute import IterativeImputer\n",
    "from imblearn.over_sampling import SMOTE\n",
    "import warnings\n",
    "from sklearn.metrics import accuracy_score, classification_report\n",
    "\n",
    "\n",
    "warnings.filterwarnings(\"ignore\")\n",
    "\n",
    "#  Step 1: Load Data (Replace df_extended with actual dataset)\n",
    "df = df_extended.copy()\n",
    "\n",
    "# #  Step 2: Convert all columns to numeric (force errors to NaN)\n",
    "# df = df.apply(pd.to_numeric, errors='coerce')\n",
    "\n",
    "# # Step 3: Impute Missing Values using Iterative Imputer\n",
    "# imputer = IterativeImputer(max_iter=10, random_state=42)\n",
    "# df_imputed = pd.DataFrame(imputer.fit_transform(df), columns=df.columns)\n",
    "\n",
    "# # Step 4: Remove duplicate rows\n",
    "# df_imputed = df_imputed.drop_duplicates()\n",
    "\n",
    "# #  Step 5: Ensure target variable has no NaN values\n",
    "# df_imputed = df_imputed.dropna(subset=[\"sl\"])  # Drop rows where target is NaN\n",
    "# df_imputed[\"sl\"] = df_imputed[\"sl\"].astype(int)  # Convert target variable to integer\n",
    "\n",
    "# #  Step 6: Split Features and Target Variable\n",
    "# X = df_imputed.drop(columns=[\"sl\"])\n",
    "# y = df_imputed[\"sl\"]"
   ]
  },
  {
   "cell_type": "code",
   "execution_count": 37,
   "metadata": {
    "id": "hJX0SpPasKK9"
   },
   "outputs": [],
   "source": [
    "#  Step 2: Convert all columns to numeric (force errors to NaN)\n",
    "df = df.apply(pd.to_numeric, errors='coerce')"
   ]
  },
  {
   "cell_type": "code",
   "execution_count": 38,
   "metadata": {
    "id": "FVqgRk-jsMU7"
   },
   "outputs": [],
   "source": [
    "# Step 3: Impute Missing Values using Iterative Imputer\n",
    "imputer = IterativeImputer(max_iter=10, random_state=42)\n",
    "df_imputed = pd.DataFrame(imputer.fit_transform(df), columns=df.columns)"
   ]
  },
  {
   "cell_type": "code",
   "execution_count": 39,
   "metadata": {
    "id": "nT9V09BzsObD"
   },
   "outputs": [],
   "source": [
    "# Step 4: Remove duplicate rows\n",
    "df_imputed = df_imputed.drop_duplicates()"
   ]
  },
  {
   "cell_type": "code",
   "execution_count": 40,
   "metadata": {
    "id": "W7Y8Df70sPdN"
   },
   "outputs": [],
   "source": [
    "#  Step 5: Ensure target variable has no NaN values\n",
    "df_imputed = df_imputed.dropna(subset=[\"sl\"])  # Drop rows where target is NaN\n",
    "df_imputed[\"sl\"] = df_imputed[\"sl\"].astype(int)  # Convert target variable to integer"
   ]
  },
  {
   "cell_type": "code",
   "execution_count": 41,
   "metadata": {
    "id": "VPuQEUlusTPl"
   },
   "outputs": [],
   "source": [
    "#  Step 6: Split Features and Target Variable\n",
    "X = df_imputed.drop(columns=[\"sl\"])\n",
    "y = df_imputed[\"sl\"]"
   ]
  },
  {
   "cell_type": "code",
   "execution_count": 42,
   "metadata": {
    "colab": {
     "base_uri": "https://localhost:8080/",
     "height": 699
    },
    "id": "1rTZHb1Ly49y",
    "outputId": "156ac205-5212-48cf-a455-bd91602c03a7"
   },
   "outputs": [
    {
     "data": {
      "image/png": "[encoded data removed]",
      "text/plain": [
       "<Figure size 1200x800 with 2 Axes>"
      ]
     },
     "metadata": {},
     "output_type": "display_data"
    }
   ],
   "source": [
    "import seaborn as sns\n",
    "import matplotlib.pyplot as plt\n",
    "\n",
    "plt.figure(figsize=(12,8))\n",
    "sns.heatmap(df.corr(), annot=True, cmap=\"coolwarm\", fmt=\".2f\")\n",
    "plt.title(\"Correlation Matrix\")\n",
    "plt.show()"
   ]
  },
  {
   "cell_type": "code",
   "execution_count": 43,
   "metadata": {
    "id": "DP_GslO46dPt"
   },
   "outputs": [],
   "source": [
    "X_train, X_test, y_train, y_test = train_test_split(X, y, test_size=0.2, random_state=42, stratify=y)\n",
    "\n",
    "# Step 8: Apply SMOTE for balancing classes\n",
    "smote = SMOTE(random_state=42)\n",
    "X_train_smote, y_train_smote = smote.fit_resample(X_train, y_train)"
   ]
  },
  {
   "cell_type": "code",
   "execution_count": 44,
   "metadata": {
    "colab": {
     "base_uri": "https://localhost:8080/"
    },
    "id": "D7c-xiZz6fNM",
    "outputId": "533df1b8-035d-4d97-a9e6-e7f807708169"
   },
   "outputs": [
    {
     "name": "stdout",
     "output_type": "stream",
     "text": [
      "\n",
      " Random Forest:\n",
      "0.979649787032655\n",
      "              precision    recall  f1-score   support\n",
      "\n",
      "           0       1.00      1.00      1.00       420\n",
      "           1       0.99      0.91      0.95       461\n",
      "           2       0.91      1.00      0.95       415\n",
      "           3       1.00      1.00      1.00       408\n",
      "           4       1.00      1.00      1.00       409\n",
      "\n",
      "    accuracy                           0.98      2113\n",
      "   macro avg       0.98      0.98      0.98      2113\n",
      "weighted avg       0.98      0.98      0.98      2113\n",
      "\n"
     ]
    }
   ],
   "source": [
    "from sklearn.ensemble import RandomForestClassifier\n",
    "# Model 1: Random Forest\n",
    "rf = RandomForestClassifier(n_estimators=200, random_state=42)\n",
    "rf.fit(X_train_smote, y_train_smote)\n",
    "y_pred_rf = rf.predict(X_test)\n",
    "print(\"\\n Random Forest:\")\n",
    "print(accuracy_score(y_test, y_pred_rf))\n",
    "print(classification_report(y_test, y_pred_rf))"
   ]
  },
  {
   "cell_type": "code",
   "execution_count": 45,
   "metadata": {
    "colab": {
     "base_uri": "https://localhost:8080/"
    },
    "id": "wMXDUPgs6k8l",
    "outputId": "0b992fa7-15d0-4dd4-a6bc-0b908f13234b"
   },
   "outputs": [
    {
     "name": "stdout",
     "output_type": "stream",
     "text": [
      "\n",
      "Naïve Bayes:\n",
      "0.950780880265026\n",
      "              precision    recall  f1-score   support\n",
      "\n",
      "           0       0.99      0.98      0.99       420\n",
      "           1       0.96      0.90      0.93       461\n",
      "           2       0.87      0.98      0.92       415\n",
      "           3       0.98      0.91      0.94       408\n",
      "           4       0.97      0.99      0.98       409\n",
      "\n",
      "    accuracy                           0.95      2113\n",
      "   macro avg       0.95      0.95      0.95      2113\n",
      "weighted avg       0.95      0.95      0.95      2113\n",
      "\n"
     ]
    }
   ],
   "source": [
    "from sklearn.naive_bayes import GaussianNB\n",
    "# Model 2: Naïve Bayes\n",
    "nb = GaussianNB()\n",
    "nb.fit(X_train_smote, y_train_smote)\n",
    "y_pred_nb = nb.predict(X_test)\n",
    "print(\"\\nNaïve Bayes:\")\n",
    "print(accuracy_score(y_test, y_pred_nb))\n",
    "print(classification_report(y_test, y_pred_nb))"
   ]
  },
  {
   "cell_type": "code",
   "execution_count": 46,
   "metadata": {
    "colab": {
     "base_uri": "https://localhost:8080/"
    },
    "id": "hfBIjWIc6rHC",
    "outputId": "26751575-3630-40f2-c97e-fe8a423af4ac"
   },
   "outputs": [
    {
     "name": "stdout",
     "output_type": "stream",
     "text": [
      "\n",
      " Logistic Regression:\n",
      "0.9791765262659725\n",
      "              precision    recall  f1-score   support\n",
      "\n",
      "           0       1.00      1.00      1.00       420\n",
      "           1       1.00      0.91      0.95       461\n",
      "           2       0.91      1.00      0.95       415\n",
      "           3       1.00      1.00      1.00       408\n",
      "           4       1.00      1.00      1.00       409\n",
      "\n",
      "    accuracy                           0.98      2113\n",
      "   macro avg       0.98      0.98      0.98      2113\n",
      "weighted avg       0.98      0.98      0.98      2113\n",
      "\n"
     ]
    }
   ],
   "source": [
    "from sklearn.linear_model import LogisticRegression\n",
    "#  Model 3: Logistic Regression\n",
    "lr = LogisticRegression(max_iter=500, random_state=42)\n",
    "lr.fit(X_train_smote, y_train_smote)\n",
    "y_pred_lr = lr.predict(X_test)\n",
    "print(\"\\n Logistic Regression:\")\n",
    "print(accuracy_score(y_test, y_pred_lr))\n",
    "print(classification_report(y_test, y_pred_lr))"
   ]
  },
  {
   "cell_type": "code",
   "execution_count": 47,
   "metadata": {
    "colab": {
     "base_uri": "https://localhost:8080/"
    },
    "id": "B-1uG2iT6xLi",
    "outputId": "23b9b10c-5af7-48c0-bf2d-abc087e153db"
   },
   "outputs": [
    {
     "name": "stdout",
     "output_type": "stream",
     "text": [
      "\n",
      " SVM:\n",
      "0.9943208707998107\n",
      "              precision    recall  f1-score   support\n",
      "\n",
      "           0       1.00      1.00      1.00       420\n",
      "           1       1.00      0.97      0.99       461\n",
      "           2       0.97      1.00      0.99       415\n",
      "           3       1.00      1.00      1.00       408\n",
      "           4       1.00      1.00      1.00       409\n",
      "\n",
      "    accuracy                           0.99      2113\n",
      "   macro avg       0.99      0.99      0.99      2113\n",
      "weighted avg       0.99      0.99      0.99      2113\n",
      "\n"
     ]
    }
   ],
   "source": [
    "from sklearn.svm import SVC\n",
    "# Model 4: Support Vector Machine (SVM)\n",
    "svm = SVC(kernel='linear', probability=True, random_state=42)\n",
    "svm.fit(X_train_smote, y_train_smote)\n",
    "y_pred_svm = svm.predict(X_test)\n",
    "print(\"\\n SVM:\")\n",
    "print(accuracy_score(y_test, y_pred_svm))\n",
    "print(classification_report(y_test, y_pred_svm))"
   ]
  },
  {
   "cell_type": "code",
   "execution_count": 48,
   "metadata": {
    "colab": {
     "base_uri": "https://localhost:8080/"
    },
    "id": "f9nxat_J7A4z",
    "outputId": "d0da63d9-03bc-49d9-ed7b-9600c7aed8d3"
   },
   "outputs": [
    {
     "name": "stdout",
     "output_type": "stream",
     "text": [
      "\n",
      "Decision Tree:\n",
      "0.9739706578324657\n",
      "              precision    recall  f1-score   support\n",
      "\n",
      "           0       1.00      0.99      1.00       420\n",
      "           1       0.98      0.90      0.94       461\n",
      "           2       0.90      0.99      0.94       415\n",
      "           3       1.00      1.00      1.00       408\n",
      "           4       1.00      1.00      1.00       409\n",
      "\n",
      "    accuracy                           0.97      2113\n",
      "   macro avg       0.98      0.98      0.97      2113\n",
      "weighted avg       0.98      0.97      0.97      2113\n",
      "\n"
     ]
    }
   ],
   "source": [
    "from sklearn.tree import DecisionTreeClassifier\n",
    "# Model 5: Decision Tree\n",
    "dt = DecisionTreeClassifier(max_depth=10, random_state=42)\n",
    "dt.fit(X_train_smote, y_train_smote)\n",
    "y_pred_dt = dt.predict(X_test)\n",
    "print(\"\\nDecision Tree:\")\n",
    "print(accuracy_score(y_test, y_pred_dt))\n",
    "print(classification_report(y_test, y_pred_dt))\n"
   ]
  },
  {
   "cell_type": "code",
   "execution_count": 49,
   "metadata": {
    "colab": {
     "base_uri": "https://localhost:8080/"
    },
    "id": "uAc_8ujF7Dea",
    "outputId": "12d4e253-b3a7-4e62-923c-164709280f40"
   },
   "outputs": [
    {
     "name": "stdout",
     "output_type": "stream",
     "text": [
      "\n",
      " XGBoost:\n",
      "0.9772834831992427\n",
      "              precision    recall  f1-score   support\n",
      "\n",
      "           0       1.00      0.99      1.00       420\n",
      "           1       0.98      0.92      0.95       461\n",
      "           2       0.91      0.99      0.95       415\n",
      "           3       1.00      1.00      1.00       408\n",
      "           4       1.00      1.00      1.00       409\n",
      "\n",
      "    accuracy                           0.98      2113\n",
      "   macro avg       0.98      0.98      0.98      2113\n",
      "weighted avg       0.98      0.98      0.98      2113\n",
      "\n"
     ]
    }
   ],
   "source": [
    "from xgboost import XGBClassifier\n",
    "#  Model 6: XGBoost\n",
    "xgb = XGBClassifier(n_estimators=200, learning_rate=0.1, max_depth=7, random_state=42, use_label_encoder=False, eval_metric='mlogloss')\n",
    "xgb.fit(X_train_smote, y_train_smote)\n",
    "y_pred_xgb = xgb.predict(X_test)\n",
    "print(\"\\n XGBoost:\")\n",
    "print(accuracy_score(y_test, y_pred_xgb))\n",
    "print(classification_report(y_test, y_pred_xgb))"
   ]
  },
  {
   "cell_type": "code",
   "execution_count": 50,
   "metadata": {
    "id": "tCo6SAsgvPp-"
   },
   "outputs": [],
   "source": [
    "import pickle\n",
    "# Define the filename for the saved model\n",
    "filename = 'svm_model.pkl'\n",
    "\n",
    "# Open a file in write-binary mode and save the model\n",
    "with open(filename, 'wb') as file:\n",
    "    pickle.dump(svm, file)"
   ]
  }
 ],
 "metadata": {
  "colab": {
   "provenance": []
  },
  "kernelspec": {
   "display_name": "Python 3",
   "name": "python3"
  },
  "language_info": {
   "codemirror_mode": {
    "name": "ipython",
    "version": 3
   },
   "file_extension": ".py",
   "mimetype": "text/x-python",
   "name": "python",
   "nbconvert_exporter": "python",
   "pygments_lexer": "ipython3",
   "version": "3.12.6"
  }
 },
 "nbformat": 4,
 "nbformat_minor": 0
}
